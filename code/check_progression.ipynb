{
 "cells": [
  {
   "cell_type": "code",
   "execution_count": 115,
   "metadata": {},
   "outputs": [],
   "source": [
    "import os.path as op\n",
    "import os\n",
    "import retro\n",
    "import pandas as pd\n",
    "#!pip install gym==0.25.2\n",
    "import retro\n",
    "import numpy as np\n",
    "import matplotlib.pyplot as plt\n",
    "import numpy as np\n",
    "from PIL import Image\n",
    "from torch import Tensor\n",
    "import warnings\n",
    "warnings.filterwarnings(\"ignore\", category=DeprecationWarning) \n",
    "from matplotlib.patches import Rectangle\n",
    "import matplotlib.pyplot as plt\n"
   ]
  },
  {
   "cell_type": "code",
   "execution_count": null,
   "metadata": {},
   "outputs": [],
   "source": []
  },
  {
   "cell_type": "code",
   "execution_count": null,
   "metadata": {},
   "outputs": [],
   "source": []
  },
  {
   "cell_type": "code",
   "execution_count": 63,
   "metadata": {},
   "outputs": [],
   "source": [
    "def extract_variables(filepath):\n",
    "    \"\"\"Runs the logfile to generate a dict that saves all the variables indexed\n",
    "    in the data.json file.\n",
    "    Parameters\n",
    "    ----------\n",
    "    filepath : str\n",
    "        The path to the .bk2 file location\n",
    "    Returns\n",
    "    -------\n",
    "    repetition_variables : dict\n",
    "        A Python dict with one entry per variable. In each entry, a list\n",
    "        containing the state of a variable at each frame across a whole\n",
    "        repetition.\n",
    "    \"\"\"\n",
    "    # Grab some info\n",
    "    split_filepath = filepath.split(\"/\")\n",
    "    split_filename = split_filepath[-1].split(\"_\")\n",
    "    level = split_filename[-2]\n",
    "    \n",
    "    # Instantiate emulator\n",
    "    env = retro.make(\"SuperMarioBros3-Nes\", state=level)\n",
    "    key_log = retro.Movie(filepath)\n",
    "    env.reset()\n",
    "\n",
    "    # Init variables dict\n",
    "    repetition_variables = {}\n",
    "    repetition_variables[\"filename\"] = filepath\n",
    "    repetition_variables[\"level\"] = level\n",
    "    repetition_variables[\"actions\"] = env.buttons\n",
    "\n",
    "    # Run the first step to obtain variable keys\n",
    "    _, _, _, frame_variables = env.step([key_log.get_key(i, 0) for i in range(env.num_buttons)])\n",
    "\n",
    "    # Init all entries\n",
    "    for key in frame_variables:\n",
    "        repetition_variables[key] = []\n",
    "    for action in env.buttons:\n",
    "        repetition_variables[action] = []\n",
    "    \n",
    "    # Starts accumulating variables states\n",
    "    env.reset()\n",
    "    while key_log.step():\n",
    "        action_list = [key_log.get_key(i, 0) for i in range(env.num_buttons)]\n",
    "        frame, _, _, frame_variables = env.step(action_list)\n",
    "        for key, item in frame_variables.items():\n",
    "            repetition_variables[key].append(item)  \n",
    "        for idx_action, action in enumerate(env.buttons):\n",
    "            repetition_variables[action].append(action_list[idx_action])\n",
    "    env.close()\n",
    "    return repetition_variables, frame\n",
    "\n",
    "\n",
    "def replay_bk2(path, emulator, size=None, reward=None, skip_first_step=True):\n",
    "    \"\"\"Replay a bk2 file and return the images as a numpy array\n",
    "    of shape (n_frames, channels=3, width, height), actions a list of list of bool,\n",
    "    rewards as a list of floats, done a list of bool, info a list of dict.\n",
    "    \"\"\"\n",
    "    movie = retro.Movie(path)\n",
    "    emulator.initial_state = movie.get_state()\n",
    "    emulator.reset()\n",
    "    images = []\n",
    "    info = []\n",
    "    done = []\n",
    "    rewards = []\n",
    "    actions = []\n",
    "\n",
    "    if skip_first_step:\n",
    "        movie.step()\n",
    "    while movie.step():\n",
    "        keys = []\n",
    "        for p in range(movie.players):\n",
    "            for i in range(emulator.num_buttons):\n",
    "                keys.append(movie.get_key(i, p))\n",
    "        actions.append(keys)\n",
    "        obs, _rew, _done, _info = emulator.step(keys)\n",
    "        if size is not None:\n",
    "            obs = resize(obs, size)\n",
    "        images.append(obs)\n",
    "        info.append(_info)\n",
    "        if reward is None:\n",
    "            rewards.append(_rew)\n",
    "        else:\n",
    "            rewards.apend(_info[reward])\n",
    "        done.append(_done)\n",
    "    return np.moveaxis(np.array(images), -1, 1), actions, rewards, done, info\n",
    "\n",
    "def images_from_array(array):\n",
    "    if isinstance(array, Tensor):\n",
    "        array = array.numpy()\n",
    "    mode = \"P\" if (array.shape[1] == 1 or len(array.shape) == 3) else \"RGB\"\n",
    "    if array.shape[1] == 1:\n",
    "        array = np.squeeze(array, axis=1)\n",
    "    if mode == \"RGB\":\n",
    "        array = np.moveaxis(array, 1, 3)\n",
    "    if array.min() < 0 or array.max() < 1:  # if pixel values in [-0.5, 0.5]\n",
    "        array = 255 * (array + 0.5)\n",
    "\n",
    "    images = [Image.fromarray(np.uint8(arr), mode) for arr in array]\n",
    "    return images\n",
    "    \n",
    "def save_GIF(array, path, duration=200, optimize=False):\n",
    "    \"\"\"Save a GIF from an array of shape (n_frames, channels, width, height),\n",
    "    also accepts (n_frames, width, height) for grey levels.\n",
    "    \"\"\"\n",
    "    assert path[-4:] == \".gif\"\n",
    "    images = images_from_array(array)\n",
    "    images[0].save(\n",
    "        path, save_all=True, append_images=images[1:], optimize=optimize, loop=0, duration=duration)"
   ]
  },
  {
   "cell_type": "code",
   "execution_count": null,
   "metadata": {},
   "outputs": [],
   "source": []
  },
  {
   "attachments": {},
   "cell_type": "markdown",
   "metadata": {},
   "source": [
    "# Load the data and build a dataframe"
   ]
  },
  {
   "cell_type": "code",
   "execution_count": 64,
   "metadata": {},
   "outputs": [],
   "source": [
    "# Create a DF with a \"done\" boolean for each repetition\n",
    "if not op.isfile(\"../data/processed/done_df.csv\"):\n",
    "    path_to_data = \"../data/sourcedata\"\n",
    "\n",
    "    sub_list = [x for x in os.listdir(path_to_data) if \"sub-\" in x]\n",
    "    done_df = pd.DataFrame({\"sub\":[],\n",
    "                            \"ses\":[],\n",
    "                            \"run\":[],\n",
    "                            \"repetition\":[],\n",
    "                            \"level\":[],\n",
    "                            \"done\":[]})\n",
    "\n",
    "    for sub in sorted(sub_list):\n",
    "        ses_list = [x for x in os.listdir(op.join(path_to_data, sub)) if \"ses-\" in x]\n",
    "        for ses in sorted(ses_list):\n",
    "            eventfiles_list = [x for x in os.listdir(op.join(path_to_data, sub, ses)) if \"_events.tsv\" in x and \"task-mario\" in x]\n",
    "            for eventfile in sorted(eventfiles_list):\n",
    "                folderpath = op.join(path_to_data, sub, ses)\n",
    "                event_fname = op.join(folderpath, eventfile)\n",
    "                events = pd.read_csv(event_fname, sep='\\t')\n",
    "                for event in events.iterrows():\n",
    "                    if event[1][\"trial_type\"] == \"gym-retro_game\":\n",
    "                        stim_file = event[1][\"stim_file\"]\n",
    "                        bk2_fpath = op.join(path_to_data, sub, ses, stim_file.split(\"/\")[-1])\n",
    "                        print(bk2_fpath)\n",
    "                        repetition_variables, last_frame = extract_variables(bk2_fpath)\n",
    "                        done = 0\n",
    "                        if repetition_variables[\"complete_level\"][-1] == 1:\n",
    "                            if repetition_variables[\"killed\"][-1] == 0:\n",
    "                                done = 1\n",
    "                                print(f\"Apparently completed : {bk2_fpath}\")\n",
    "                        subj_done_df = done_df[done_df[\"sub\"]==sub]\n",
    "\n",
    "                        row_df = pd.DataFrame.from_dict({\"sub\":[sub],\n",
    "                            \"ses\":[ses],\n",
    "                            \"run\":[eventfile.split(\"_\")[-2]],\n",
    "                            \"repetition\":[bk2_fpath.split(\"/\")[-1].split(\"_\")[-1].split(\".\")[0]],\n",
    "                            \"level\":[repetition_variables[\"level\"]],\n",
    "                            \"done\":[done]})\n",
    "                        done_df = pd.concat((done_df,row_df))\n",
    "\n",
    "    done_df.to_csv(\"../data/processed/done_df.csv\")\n",
    "else:\n",
    "    done_df = pd.read_csv(\"../data/processed/done_df.csv\", sep=\",\")\n",
    "\n",
    "\n"
   ]
  },
  {
   "cell_type": "code",
   "execution_count": 35,
   "metadata": {},
   "outputs": [],
   "source": []
  },
  {
   "cell_type": "code",
   "execution_count": 49,
   "metadata": {},
   "outputs": [],
   "source": []
  },
  {
   "cell_type": "code",
   "execution_count": 37,
   "metadata": {},
   "outputs": [],
   "source": []
  },
  {
   "attachments": {},
   "cell_type": "markdown",
   "metadata": {},
   "source": [
    "# Compute number of levels passed and visualize"
   ]
  },
  {
   "cell_type": "code",
   "execution_count": 66,
   "metadata": {},
   "outputs": [
    {
     "name": "stdout",
     "output_type": "stream",
     "text": [
      "sub-01 :\n",
      "Number of bk2s (trials) : 534\n",
      "Number of completed levels to date : 35\n",
      "\n",
      "sub-02 :\n",
      "Number of bk2s (trials) : 1035\n",
      "Number of completed levels to date : 22\n",
      "\n",
      "sub-03 :\n",
      "Number of bk2s (trials) : 561\n",
      "Number of completed levels to date : 12\n",
      "\n",
      "sub-06 :\n",
      "Number of bk2s (trials) : 482\n",
      "Number of completed levels to date : 53\n",
      "\n"
     ]
    }
   ],
   "source": [
    "# Compute the number of completed levels after each repetition../data/sourcedata/sub-06/ses-017/sub-06_ses-017_20221216-163108_SuperMarioBros3-Nes_1Player.World5.Airship_002.bk2\n",
    "def compute_completed_over_time(done_df, sub):\n",
    "    subject_done_df = done_df[done_df[\"sub\"]==sub]\n",
    "    levels_to_complete = list(np.unique(subject_done_df[\"level\"]))\n",
    "    n_level_total = len(levels_to_complete)\n",
    "    repetition_index = []\n",
    "    n_level_completed_per_index = []\n",
    "    for idx, rep in enumerate(subject_done_df.iterrows()):\n",
    "        rep=rep[1]\n",
    "        repetition_index.append(idx)\n",
    "        if rep[\"done\"] == 1.0:\n",
    "            if rep[\"level\"] in levels_to_complete:\n",
    "                levels_to_complete.remove(rep[\"level\"])\n",
    "        n_level_completed_per_index.append(n_level_total - len(levels_to_complete))\n",
    "    return n_level_completed_per_index, repetition_index\n",
    "\n",
    "for idx, sub in enumerate(sorted(np.unique(done_df[\"sub\"]))):\n",
    "    n_level_completed_per_index, repetition_index = compute_completed_over_time(done_df, sub)\n",
    "    #axes.flatten()[idx] = plt.plot(n_level_completed_per_index, repetition_index)\n",
    "\n",
    "    print(f\"{sub} :\")\n",
    "    print(f\"Number of bk2s (trials) : {len(n_level_completed_per_index)}\")\n",
    "    print(f\"Number of completed levels to date : {n_level_completed_per_index[-1]}\")\n",
    "    print()"
   ]
  },
  {
   "cell_type": "code",
   "execution_count": 114,
   "metadata": {},
   "outputs": [
    {
     "data": {
      "image/png": "[encoded data removed]",
      "text/plain": [
       "<Figure size 500x500 with 4 Axes>"
      ]
     },
     "metadata": {},
     "output_type": "display_data"
    }
   ],
   "source": [
    "\n",
    "\n",
    "fig, axes = plt.subplots(2,2, figsize=(5,5))\n",
    "for idx, sub in enumerate(sorted(np.unique(done_df[\"sub\"]))):\n",
    "    ax = axes.flatten()[idx]\n",
    "    n_level_completed_per_index, repetition_index = compute_completed_over_time(done_df, sub)    \n",
    "    ax.plot(repetition_index, n_level_completed_per_index)\n",
    "    ax.set_ylim([0, 80])\n",
    "    ax.set_title(sub)\n",
    "\n",
    "    # Add cycles\n",
    "    cycles = np.asarray((done_df[done_df['sub']==sub].level.str.replace(r'1Player.World([0-9]+).[A-Za-z]+([0-9]*)',r'\\1.00000\\2',regex=True).astype(float).diff()!=0).cumsum()//80)\n",
    "    cycles_idx, cycles_length = np.unique(cycles, return_counts=True)\n",
    "    next_seed = 0\n",
    "    colors = [\"b\", \"r\", \"g\", \"y\", \"m\"]\n",
    "    for cycle_idx in cycles_idx:\n",
    "        rectangle = Rectangle((next_seed, 0), cycles_length[cycle_idx], 80, alpha = 0.1, color=colors[cycle_idx])\n",
    "        ax.add_patch(rectangle)\n",
    "        next_seed = next_seed + cycles_length[cycle_idx]\n",
    "    \n",
    "    \n",
    "        \n",
    "plt.tight_layout()"
   ]
  },
  {
   "cell_type": "code",
   "execution_count": null,
   "metadata": {},
   "outputs": [],
   "source": []
  },
  {
   "cell_type": "code",
   "execution_count": null,
   "metadata": {},
   "outputs": [],
   "source": []
  },
  {
   "attachments": {},
   "cell_type": "markdown",
   "metadata": {},
   "source": [
    "# Make a videoclip of a repetition in order to confirm if its passed or not"
   ]
  },
  {
   "cell_type": "code",
   "execution_count": null,
   "metadata": {},
   "outputs": [],
   "source": [
    "filepath = \"../data/sourcedata/sub-01/ses-001/sub-01_ses-001_20221007-113823_SuperMarioBros3-Nes_1Player.World1.Level3_000.bk2\"\n",
    "\n",
    "duration = 10\n",
    "\n",
    "split_filepath = filepath.split(\"/\")\n",
    "split_filename = split_filepath[-1].split(\"_\")\n",
    "level = split_filename[-2]\n",
    "\n",
    "# Instantiate emulator\n",
    "\n",
    "env = retro.make(\"SuperMarioBros3-Nes\", state=level)\n",
    "frames, actions, rewards, done, info = replay_bk2(filepath, env)\n",
    "env.close()\n",
    "\n",
    "save_GIF(frames, \"test.gif\", duration=duration, optimize=False)\n",
    "\n"
   ]
  },
  {
   "cell_type": "code",
   "execution_count": null,
   "metadata": {},
   "outputs": [],
   "source": []
  },
  {
   "cell_type": "code",
   "execution_count": null,
   "metadata": {},
   "outputs": [],
   "source": []
  }
 ],
 "metadata": {
  "kernelspec": {
   "display_name": "mario3_env",
   "language": "python",
   "name": "python3"
  },
  "language_info": {
   "codemirror_mode": {
    "name": "ipython",
    "version": 3
   },
   "file_extension": ".py",
   "mimetype": "text/x-python",
   "name": "python",
   "nbconvert_exporter": "python",
   "pygments_lexer": "ipython3",
   "version": "3.8.0"
  },
  "orig_nbformat": 4,
  "vscode": {
   "interpreter": {
    "hash": "4900aa22f58595e928dbdefcabe2d20fc6f3ae6957f32541dff8055ab832003e"
   }
  }
 },
 "nbformat": 4,
 "nbformat_minor": 2
}
